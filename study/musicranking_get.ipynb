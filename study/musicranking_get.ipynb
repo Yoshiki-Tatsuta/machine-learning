{
 "cells": [
  {
   "cell_type": "code",
   "execution_count": 12,
   "metadata": {},
   "outputs": [],
   "source": [
    "import requests\n",
    "from bs4 import BeautifulSoup\n",
    "import csv\n",
    "\n",
    "# １週間ごとの日付を入力\n",
    "ranking_dairy = '2022-07-25/'\n",
    "\n",
    "# オリコン週間ランキングのURL\n",
    "vgm_url = 'https://www.oricon.co.jp/rank/js/w/' + ranking_dairy\n",
    "html_text = requests.get(vgm_url).text\n",
    "soup = BeautifulSoup(html_text, 'html.parser')\n",
    "\n",
    "\n",
    "\n",
    "rank_main = soup.find(class_=\"content-rank-main\")\n",
    "\n",
    "rank_detail = rank_main.find('h1').text\n",
    "rank_week = rank_main.find('h2').text\n",
    "rank_week_date = rank_main.find(class_=\"date\").text\n",
    "\n",
    "RANK_HEADER = [rank_detail, rank_week, rank_week_date]\n",
    "\n",
    "\n",
    "HEADER = [\"ランキング\", \"曲名\", \"アーティスト名\", \"詳細\"]\n",
    "\n",
    "ranking = []\n",
    "rank_title = []\n",
    "rank_name = []\n",
    "rank_list = []\n",
    "new_rank_list = []\n",
    "\n",
    "rankings = rank_main.find_all(class_=\"num\")\n",
    "rank_titles = rank_main.find_all('h2', class_=\"title\")\n",
    "rank_names = rank_main.find_all('p', class_=\"name\")\n",
    "rank_lists = rank_main.find_all('ul', class_=\"list\")\n",
    "\n",
    "\n",
    "for rankinged in rankings:\n",
    "    ranking.append(rankinged.text)\n",
    "\n",
    "for rank_titled in rank_titles:\n",
    "    rank_title.append(rank_titled.text)\n",
    "    \n",
    "for rank_named in rank_names:\n",
    "    rank_name.append(rank_named.text)\n",
    "\n",
    "for rank_listed in rank_lists:\n",
    "    rank_list.append(rank_listed.text)\n",
    "    \n",
    "for x in rank_list:\n",
    "    new_rank_list.append(x.replace(\"\\n\", \"\").replace(\"\\r\", \"\").replace(\"\\t\", \"\"))\n",
    "\n",
    "\n",
    "\n",
    "count = 0\n",
    "\n",
    "\n",
    "with open('musicrank_20220725.csv', 'w', encoding='utf-8') as f:    # csvの名前は取得日に合わせる\n",
    "    writer = csv.writer(f)\n",
    "    writer.writerow(RANK_HEADER)\n",
    "    writer.writerow(HEADER)\n",
    "\n",
    "    while count < 10:\n",
    "        csv_rank = ranking[count]\n",
    "        csv_title = rank_title[count]\n",
    "        csv_name = rank_name[count]\n",
    "        csv_list = new_rank_list[count]\n",
    "        \n",
    "        MAIN = [csv_rank, csv_title, csv_name, csv_list]\n",
    "        writer.writerow(MAIN)\n",
    "        count += 1\n",
    "\n",
    "    "
   ]
  },
  {
   "cell_type": "code",
   "execution_count": null,
   "metadata": {},
   "outputs": [],
   "source": []
  }
 ],
 "metadata": {
  "kernelspec": {
   "display_name": "Python 3.10.4 ('env': venv)",
   "language": "python",
   "name": "python3"
  },
  "language_info": {
   "codemirror_mode": {
    "name": "ipython",
    "version": 3
   },
   "file_extension": ".py",
   "mimetype": "text/x-python",
   "name": "python",
   "nbconvert_exporter": "python",
   "pygments_lexer": "ipython3",
   "version": "3.10.4"
  },
  "orig_nbformat": 4,
  "vscode": {
   "interpreter": {
    "hash": "a449e4e7e32b9a2ee73f096790a53b6fbe199ab1f227ef93c0165c2e4ffcc4fd"
   }
  }
 },
 "nbformat": 4,
 "nbformat_minor": 2
}
