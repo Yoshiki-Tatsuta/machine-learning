{
 "cells": [
  {
   "cell_type": "code",
   "execution_count": 3,
   "id": "56318545-6e67-4e91-b872-6aa6b4a5a497",
   "metadata": {},
   "outputs": [
    {
     "data": {
      "image/png": "[encoded data removed]",
      "text/plain": [
       "<Figure size 432x288 with 1 Axes>"
      ]
     },
     "metadata": {
      "needs_background": "light"
     },
     "output_type": "display_data"
    }
   ],
   "source": [
    "# 配列を便利に扱うためのライブラリ\n",
    "import numpy\n",
    "# 図化のためのライブラリ\n",
    "import matplotlib.pyplot\n",
    "\n",
    "# mnist_train.csvファイルを開く\n",
    "data_file = open(\"mnist_dataset/mnist_train.csv\", 'r')\n",
    "# data_fileに入っているすべての行をdata_listにリストとして代入する\n",
    "data_list = data_file.readlines()\n",
    "# ファイルを閉じる\n",
    "data_file.close()\n",
    "\n",
    "# 行をカンマ区切りで分割しall_valuesへリストとして代入\n",
    "all_values = data_list[10].split(',')\n",
    "# 784文字を28×28の配列に変換\n",
    "image_array = numpy.asfarray(all_values[1:]).reshape((28, 28))\n",
    "# 図化\n",
    "matplotlib.pyplot.imshow(image_array, cmap='Greys', interpolation='None')\n",
    "\n",
    "# 図を保存\n",
    "matplotlib.pyplot.savefig('result/number.png')"
   ]
  },
  {
   "cell_type": "code",
   "execution_count": null,
   "id": "d73944e2-7653-45f7-8c21-632e720e9e9f",
   "metadata": {},
   "outputs": [],
   "source": []
  }
 ],
 "metadata": {
  "kernelspec": {
   "display_name": "Python 3 (ipykernel)",
   "language": "python",
   "name": "python3"
  },
  "language_info": {
   "codemirror_mode": {
    "name": "ipython",
    "version": 3
   },
   "file_extension": ".py",
   "mimetype": "text/x-python",
   "name": "python",
   "nbconvert_exporter": "python",
   "pygments_lexer": "ipython3",
   "version": "3.10.4"
  }
 },
 "nbformat": 4,
 "nbformat_minor": 5
}
